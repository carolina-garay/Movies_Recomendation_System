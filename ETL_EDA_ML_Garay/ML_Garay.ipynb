{
  "nbformat": 4,
  "nbformat_minor": 0,
  "metadata": {
    "colab": {
      "provenance": []
    },
    "kernelspec": {
      "name": "python3",
      "display_name": "Python 3"
    },
    "language_info": {
      "name": "python"
    }
  },
  "cells": [
    {
      "cell_type": "markdown",
      "source": [
        "\n",
        "\n",
        "---\n",
        "\n",
        "\n",
        "# <h1 align=center> **Carolina del Valle Garay** </h1>\n",
        "\n",
        "\n",
        "\n",
        "\n",
        "---\n",
        "\n",
        "\n",
        "# <h1 align=center> **Modelo de Machine Learning** </h1>\n",
        "\n",
        "\n",
        "\n",
        "\n",
        "---\n",
        "\n"
      ],
      "metadata": {
        "id": "baO0onCVcCLo"
      }
    },
    {
      "cell_type": "markdown",
      "source": [
        "Se trabajará con los siguientes métodos y técnicas de Procesamiento de Lenguaje Natural:\n",
        "\n",
        "- TF-IDF (Term Frequency-Inverse Document Frequency): Este método convierte el texto en una representación numérica (matriz de características), donde cada término en el texto se asocia con un valor que refleja su importancia en el documento en comparación con el corpus. Los valores calculados son puramente textuales, basados en la frecuencia de palabras.\n",
        "\n",
        "- Similitud del Coseno: Esta técnica mide la similitud entre dos vectores de TF-IDF, cuantificando cuán similares son en el espacio vectorial. No se ve afectada por valores numéricos externos, sino únicamente por los términos del texto y sus respectivas ponderaciones."
      ],
      "metadata": {
        "id": "g2QQLhHCgc19"
      }
    },
    {
      "cell_type": "markdown",
      "source": [
        "##Ingesta de datos luego de aplicado el EDA"
      ],
      "metadata": {
        "id": "oXX7BPLECoFR"
      }
    },
    {
      "cell_type": "code",
      "source": [
        "#Importar librerías\n",
        "import numpy as np\n",
        "import pandas as pd\n",
        "import seaborn as sns\n",
        "import matplotlib.pyplot as plt\n",
        "import warnings\n",
        "from wordcloud import WordCloud, STOPWORDS\n",
        "from sklearn.feature_extraction.text import TfidfVectorizer\n",
        "from sklearn.metrics.pairwise import cosine_similarity\n",
        "import nltk\n",
        "nltk.download('punkt')\n",
        "nltk.download('stopwords')\n",
        "from nltk.corpus import stopwords\n",
        "from nltk.tokenize import word_tokenize"
      ],
      "metadata": {
        "colab": {
          "base_uri": "https://localhost:8080/"
        },
        "id": "n_NrVh6RY-2-",
        "outputId": "aaf61e29-ec00-4ef7-d576-41c6250a0de1"
      },
      "execution_count": 1,
      "outputs": [
        {
          "output_type": "stream",
          "name": "stderr",
          "text": [
            "[nltk_data] Downloading package punkt to /root/nltk_data...\n",
            "[nltk_data]   Unzipping tokenizers/punkt.zip.\n",
            "[nltk_data] Downloading package stopwords to /root/nltk_data...\n",
            "[nltk_data]   Unzipping corpora/stopwords.zip.\n"
          ]
        }
      ]
    },
    {
      "cell_type": "code",
      "source": [
        "!gdown https://drive.google.com/file/d/17GdfOWQhKz3vH2wBDVdw-k_1_TBh6o8U/view?usp=sharing --fuzzy"
      ],
      "metadata": {
        "colab": {
          "base_uri": "https://localhost:8080/"
        },
        "id": "kftLBAXJC6C9",
        "outputId": "99bba4e2-b428-453c-ad26-a5d772ba968e"
      },
      "execution_count": 2,
      "outputs": [
        {
          "output_type": "stream",
          "name": "stdout",
          "text": [
            "Downloading...\n",
            "From: https://drive.google.com/uc?id=17GdfOWQhKz3vH2wBDVdw-k_1_TBh6o8U\n",
            "To: /content/movies_final.parquet\n",
            "100% 20.6M/20.6M [00:00<00:00, 37.8MB/s]\n"
          ]
        }
      ]
    },
    {
      "cell_type": "code",
      "source": [
        "df = pd.read_parquet('/content/movies_final.parquet')"
      ],
      "metadata": {
        "id": "0jTsbuYBDGAd"
      },
      "execution_count": 3,
      "outputs": []
    },
    {
      "cell_type": "code",
      "source": [
        "df.dtypes"
      ],
      "metadata": {
        "id": "mEXd9a91Ojxc"
      },
      "execution_count": null,
      "outputs": []
    },
    {
      "cell_type": "code",
      "source": [
        "df['title'][:30]"
      ],
      "metadata": {
        "id": "LEXocqkkTCfN"
      },
      "execution_count": null,
      "outputs": []
    },
    {
      "cell_type": "code",
      "source": [
        "df.columns"
      ],
      "metadata": {
        "colab": {
          "base_uri": "https://localhost:8080/"
        },
        "id": "Il2JFrGvEdSB",
        "outputId": "1024ad34-43de-4be6-8c13-e68cad219f1e"
      },
      "execution_count": null,
      "outputs": [
        {
          "output_type": "execute_result",
          "data": {
            "text/plain": [
              "Index(['budget', 'id', 'original_language', 'overview', 'popularity',\n",
              "       'release_date', 'revenue', 'runtime', 'status', 'tagline', 'title',\n",
              "       'vote_average', 'vote_count', 'name_coll', 'name_gen',\n",
              "       'production_companies', 'production_countries', 'languages', 'return',\n",
              "       'release_year', 'actors', 'director'],\n",
              "      dtype='object')"
            ]
          },
          "metadata": {},
          "execution_count": 4
        }
      ]
    },
    {
      "cell_type": "code",
      "source": [
        "#revisar valores nulos\n",
        "df.isnull().sum()"
      ],
      "metadata": {
        "colab": {
          "base_uri": "https://localhost:8080/"
        },
        "id": "gSCfBOcCVhT_",
        "outputId": "e50d0e1b-097d-4474-fd45-8275761a4ed9"
      },
      "execution_count": null,
      "outputs": [
        {
          "output_type": "execute_result",
          "data": {
            "text/plain": [
              "budget                      0\n",
              "id                          0\n",
              "original_language          11\n",
              "overview                  941\n",
              "popularity                  0\n",
              "release_date                0\n",
              "revenue                     0\n",
              "runtime                   246\n",
              "status                     80\n",
              "tagline                 24958\n",
              "title                       0\n",
              "vote_average                0\n",
              "vote_count                  0\n",
              "name_coll               40860\n",
              "name_gen                    0\n",
              "production_companies    11788\n",
              "production_countries     6207\n",
              "languages                3765\n",
              "return                      0\n",
              "release_year                0\n",
              "actors                      0\n",
              "director                  835\n",
              "dtype: int64"
            ]
          },
          "metadata": {},
          "execution_count": 5
        }
      ]
    },
    {
      "cell_type": "code",
      "source": [
        "df.shape"
      ],
      "metadata": {
        "colab": {
          "base_uri": "https://localhost:8080/"
        },
        "id": "ZIfCQeE0watL",
        "outputId": "685681a2-6361-4a1c-ac90-5b2e2114deca"
      },
      "execution_count": null,
      "outputs": [
        {
          "output_type": "execute_result",
          "data": {
            "text/plain": [
              "(45345, 22)"
            ]
          },
          "metadata": {},
          "execution_count": 6
        }
      ]
    },
    {
      "cell_type": "markdown",
      "source": [
        "**Se crearán dos columnas como resultado del análisis efectuado en el EDA**"
      ],
      "metadata": {
        "id": "zDeQmQ_ADUz0"
      }
    },
    {
      "cell_type": "code",
      "source": [
        "df['name_coll'][:3]"
      ],
      "metadata": {
        "colab": {
          "base_uri": "https://localhost:8080/",
          "height": 178
        },
        "id": "gEuUa3g5Nazn",
        "outputId": "54951c43-5c66-422c-abf1-0bb245ccbb18"
      },
      "execution_count": 6,
      "outputs": [
        {
          "output_type": "execute_result",
          "data": {
            "text/plain": [
              "0         Toy Story Collection\n",
              "1                         None\n",
              "2    Grumpy Old Men Collection\n",
              "Name: name_coll, dtype: object"
            ],
            "text/html": [
              "<table border=\"1\" class=\"dataframe\">\n",
              "  <thead>\n",
              "    <tr style=\"text-align: right;\">\n",
              "      <th></th>\n",
              "      <th>name_coll</th>\n",
              "    </tr>\n",
              "  </thead>\n",
              "  <tbody>\n",
              "    <tr>\n",
              "      <th>0</th>\n",
              "      <td>Toy Story Collection</td>\n",
              "    </tr>\n",
              "    <tr>\n",
              "      <th>1</th>\n",
              "      <td>None</td>\n",
              "    </tr>\n",
              "    <tr>\n",
              "      <th>2</th>\n",
              "      <td>Grumpy Old Men Collection</td>\n",
              "    </tr>\n",
              "  </tbody>\n",
              "</table><br><label><b>dtype:</b> object</label>"
            ]
          },
          "metadata": {},
          "execution_count": 6
        }
      ]
    },
    {
      "cell_type": "code",
      "source": [
        "# Extraer el primer actor de la lista en la columna 'actors'\n",
        "df['first_actor'] = df['actors'].apply(lambda x: x.split(',')[0] if pd.notna(x) else '')\n",
        "\n",
        "# Extraer el primer director de la lista en la columna 'director'\n",
        "df['first_director'] = df['director'].apply(lambda x: x.split(',')[0] if pd.notna(x) else '')"
      ],
      "metadata": {
        "id": "90lBlZWnDNmB"
      },
      "execution_count": 4,
      "outputs": []
    },
    {
      "cell_type": "code",
      "source": [
        "df.head()"
      ],
      "metadata": {
        "colab": {
          "base_uri": "https://localhost:8080/",
          "height": 794
        },
        "id": "n3fMu6P7EGYZ",
        "outputId": "9c7d9cc4-d763-4426-91cc-6aa81721dfb1"
      },
      "execution_count": 5,
      "outputs": [
        {
          "output_type": "execute_result",
          "data": {
            "text/plain": [
              "     budget     id original_language  \\\n",
              "0  30000000    862                en   \n",
              "1  65000000   8844                en   \n",
              "2         0  15602                en   \n",
              "3  16000000  31357                en   \n",
              "4         0  11862                en   \n",
              "\n",
              "                                            overview  popularity release_date  \\\n",
              "0  Led by Woody, Andy's toys live happily in his ...   21.946943   1995-10-30   \n",
              "1  When siblings Judy and Peter discover an encha...   17.015539   1995-12-15   \n",
              "2  A family wedding reignites the ancient feud be...   11.712900   1995-12-22   \n",
              "3  Cheated on, mistreated and stepped on, the wom...    3.859495   1995-12-22   \n",
              "4  Just when George Banks has recovered from his ...    8.387519   1995-02-10   \n",
              "\n",
              "       revenue  runtime    status  \\\n",
              "0  373554033.0     81.0  Released   \n",
              "1  262797249.0    104.0  Released   \n",
              "2          0.0    101.0  Released   \n",
              "3   81452156.0    127.0  Released   \n",
              "4   76578911.0    106.0  Released   \n",
              "\n",
              "                                             tagline  ...  \\\n",
              "0                                               None  ...   \n",
              "1          Roll the dice and unleash the excitement!  ...   \n",
              "2  Still Yelling. Still Fighting. Still Ready for...  ...   \n",
              "3  Friends are the people who let you be yourself...  ...   \n",
              "4  Just When His World Is Back To Normal... He's ...  ...   \n",
              "\n",
              "                   name_gen  \\\n",
              "0   Animation,Comedy,Family   \n",
              "1  Adventure,Fantasy,Family   \n",
              "2            Romance,Comedy   \n",
              "3      Comedy,Drama,Romance   \n",
              "4                    Comedy   \n",
              "\n",
              "                                production_companies  \\\n",
              "0                            Pixar Animation Studios   \n",
              "1  TriStar Pictures, Teitler Film, Interscope Com...   \n",
              "2                       Warner Bros., Lancaster Gate   \n",
              "3             Twentieth Century Fox Film Corporation   \n",
              "4         Sandollar Productions, Touchstone Pictures   \n",
              "\n",
              "       production_countries          languages     return release_year  \\\n",
              "0  United States of America            English  12.451801         1995   \n",
              "1  United States of America  English, Français   4.043035         1995   \n",
              "2  United States of America            English   0.000000         1995   \n",
              "3  United States of America            English   5.090760         1995   \n",
              "4  United States of America            English   0.000000         1995   \n",
              "\n",
              "                                              actors         director  \\\n",
              "0  Tom Hanks, Tim Allen, Don Rickles, Jim Varney,...    John Lasseter   \n",
              "1  Robin Williams, Jonathan Hyde, Kirsten Dunst, ...     Joe Johnston   \n",
              "2  Walter Matthau, Jack Lemmon, Ann-Margret, Soph...    Howard Deutch   \n",
              "3  Whitney Houston, Angela Bassett, Loretta Devin...  Forest Whitaker   \n",
              "4  Steve Martin, Diane Keaton, Martin Short, Kimb...    Charles Shyer   \n",
              "\n",
              "       first_actor   first_director  \n",
              "0        Tom Hanks    John Lasseter  \n",
              "1   Robin Williams     Joe Johnston  \n",
              "2   Walter Matthau    Howard Deutch  \n",
              "3  Whitney Houston  Forest Whitaker  \n",
              "4     Steve Martin    Charles Shyer  \n",
              "\n",
              "[5 rows x 24 columns]"
            ],
            "text/html": [
              "\n",
              "  <div id=\"df-ed7730f0-6b00-45a7-8bd5-eb232e42b243\" class=\"colab-df-container\">\n",
              "    <div>\n",
              "<style scoped>\n",
              "    .dataframe tbody tr th:only-of-type {\n",
              "        vertical-align: middle;\n",
              "    }\n",
              "\n",
              "    .dataframe tbody tr th {\n",
              "        vertical-align: top;\n",
              "    }\n",
              "\n",
              "    .dataframe thead th {\n",
              "        text-align: right;\n",
              "    }\n",
              "</style>\n",
              "<table border=\"1\" class=\"dataframe\">\n",
              "  <thead>\n",
              "    <tr style=\"text-align: right;\">\n",
              "      <th></th>\n",
              "      <th>budget</th>\n",
              "      <th>id</th>\n",
              "      <th>original_language</th>\n",
              "      <th>overview</th>\n",
              "      <th>popularity</th>\n",
              "      <th>release_date</th>\n",
              "      <th>revenue</th>\n",
              "      <th>runtime</th>\n",
              "      <th>status</th>\n",
              "      <th>tagline</th>\n",
              "      <th>...</th>\n",
              "      <th>name_gen</th>\n",
              "      <th>production_companies</th>\n",
              "      <th>production_countries</th>\n",
              "      <th>languages</th>\n",
              "      <th>return</th>\n",
              "      <th>release_year</th>\n",
              "      <th>actors</th>\n",
              "      <th>director</th>\n",
              "      <th>first_actor</th>\n",
              "      <th>first_director</th>\n",
              "    </tr>\n",
              "  </thead>\n",
              "  <tbody>\n",
              "    <tr>\n",
              "      <th>0</th>\n",
              "      <td>30000000</td>\n",
              "      <td>862</td>\n",
              "      <td>en</td>\n",
              "      <td>Led by Woody, Andy's toys live happily in his ...</td>\n",
              "      <td>21.946943</td>\n",
              "      <td>1995-10-30</td>\n",
              "      <td>373554033.0</td>\n",
              "      <td>81.0</td>\n",
              "      <td>Released</td>\n",
              "      <td>None</td>\n",
              "      <td>...</td>\n",
              "      <td>Animation,Comedy,Family</td>\n",
              "      <td>Pixar Animation Studios</td>\n",
              "      <td>United States of America</td>\n",
              "      <td>English</td>\n",
              "      <td>12.451801</td>\n",
              "      <td>1995</td>\n",
              "      <td>Tom Hanks, Tim Allen, Don Rickles, Jim Varney,...</td>\n",
              "      <td>John Lasseter</td>\n",
              "      <td>Tom Hanks</td>\n",
              "      <td>John Lasseter</td>\n",
              "    </tr>\n",
              "    <tr>\n",
              "      <th>1</th>\n",
              "      <td>65000000</td>\n",
              "      <td>8844</td>\n",
              "      <td>en</td>\n",
              "      <td>When siblings Judy and Peter discover an encha...</td>\n",
              "      <td>17.015539</td>\n",
              "      <td>1995-12-15</td>\n",
              "      <td>262797249.0</td>\n",
              "      <td>104.0</td>\n",
              "      <td>Released</td>\n",
              "      <td>Roll the dice and unleash the excitement!</td>\n",
              "      <td>...</td>\n",
              "      <td>Adventure,Fantasy,Family</td>\n",
              "      <td>TriStar Pictures, Teitler Film, Interscope Com...</td>\n",
              "      <td>United States of America</td>\n",
              "      <td>English, Français</td>\n",
              "      <td>4.043035</td>\n",
              "      <td>1995</td>\n",
              "      <td>Robin Williams, Jonathan Hyde, Kirsten Dunst, ...</td>\n",
              "      <td>Joe Johnston</td>\n",
              "      <td>Robin Williams</td>\n",
              "      <td>Joe Johnston</td>\n",
              "    </tr>\n",
              "    <tr>\n",
              "      <th>2</th>\n",
              "      <td>0</td>\n",
              "      <td>15602</td>\n",
              "      <td>en</td>\n",
              "      <td>A family wedding reignites the ancient feud be...</td>\n",
              "      <td>11.712900</td>\n",
              "      <td>1995-12-22</td>\n",
              "      <td>0.0</td>\n",
              "      <td>101.0</td>\n",
              "      <td>Released</td>\n",
              "      <td>Still Yelling. Still Fighting. Still Ready for...</td>\n",
              "      <td>...</td>\n",
              "      <td>Romance,Comedy</td>\n",
              "      <td>Warner Bros., Lancaster Gate</td>\n",
              "      <td>United States of America</td>\n",
              "      <td>English</td>\n",
              "      <td>0.000000</td>\n",
              "      <td>1995</td>\n",
              "      <td>Walter Matthau, Jack Lemmon, Ann-Margret, Soph...</td>\n",
              "      <td>Howard Deutch</td>\n",
              "      <td>Walter Matthau</td>\n",
              "      <td>Howard Deutch</td>\n",
              "    </tr>\n",
              "    <tr>\n",
              "      <th>3</th>\n",
              "      <td>16000000</td>\n",
              "      <td>31357</td>\n",
              "      <td>en</td>\n",
              "      <td>Cheated on, mistreated and stepped on, the wom...</td>\n",
              "      <td>3.859495</td>\n",
              "      <td>1995-12-22</td>\n",
              "      <td>81452156.0</td>\n",
              "      <td>127.0</td>\n",
              "      <td>Released</td>\n",
              "      <td>Friends are the people who let you be yourself...</td>\n",
              "      <td>...</td>\n",
              "      <td>Comedy,Drama,Romance</td>\n",
              "      <td>Twentieth Century Fox Film Corporation</td>\n",
              "      <td>United States of America</td>\n",
              "      <td>English</td>\n",
              "      <td>5.090760</td>\n",
              "      <td>1995</td>\n",
              "      <td>Whitney Houston, Angela Bassett, Loretta Devin...</td>\n",
              "      <td>Forest Whitaker</td>\n",
              "      <td>Whitney Houston</td>\n",
              "      <td>Forest Whitaker</td>\n",
              "    </tr>\n",
              "    <tr>\n",
              "      <th>4</th>\n",
              "      <td>0</td>\n",
              "      <td>11862</td>\n",
              "      <td>en</td>\n",
              "      <td>Just when George Banks has recovered from his ...</td>\n",
              "      <td>8.387519</td>\n",
              "      <td>1995-02-10</td>\n",
              "      <td>76578911.0</td>\n",
              "      <td>106.0</td>\n",
              "      <td>Released</td>\n",
              "      <td>Just When His World Is Back To Normal... He's ...</td>\n",
              "      <td>...</td>\n",
              "      <td>Comedy</td>\n",
              "      <td>Sandollar Productions, Touchstone Pictures</td>\n",
              "      <td>United States of America</td>\n",
              "      <td>English</td>\n",
              "      <td>0.000000</td>\n",
              "      <td>1995</td>\n",
              "      <td>Steve Martin, Diane Keaton, Martin Short, Kimb...</td>\n",
              "      <td>Charles Shyer</td>\n",
              "      <td>Steve Martin</td>\n",
              "      <td>Charles Shyer</td>\n",
              "    </tr>\n",
              "  </tbody>\n",
              "</table>\n",
              "<p>5 rows × 24 columns</p>\n",
              "</div>\n",
              "    <div class=\"colab-df-buttons\">\n",
              "\n",
              "  <div class=\"colab-df-container\">\n",
              "    <button class=\"colab-df-convert\" onclick=\"convertToInteractive('df-ed7730f0-6b00-45a7-8bd5-eb232e42b243')\"\n",
              "            title=\"Convert this dataframe to an interactive table.\"\n",
              "            style=\"display:none;\">\n",
              "\n",
              "  <svg xmlns=\"http://www.w3.org/2000/svg\" height=\"24px\" viewBox=\"0 -960 960 960\">\n",
              "    <path d=\"M120-120v-720h720v720H120Zm60-500h600v-160H180v160Zm220 220h160v-160H400v160Zm0 220h160v-160H400v160ZM180-400h160v-160H180v160Zm440 0h160v-160H620v160ZM180-180h160v-160H180v160Zm440 0h160v-160H620v160Z\"/>\n",
              "  </svg>\n",
              "    </button>\n",
              "\n",
              "  <style>\n",
              "    .colab-df-container {\n",
              "      display:flex;\n",
              "      gap: 12px;\n",
              "    }\n",
              "\n",
              "    .colab-df-convert {\n",
              "      background-color: #E8F0FE;\n",
              "      border: none;\n",
              "      border-radius: 50%;\n",
              "      cursor: pointer;\n",
              "      display: none;\n",
              "      fill: #1967D2;\n",
              "      height: 32px;\n",
              "      padding: 0 0 0 0;\n",
              "      width: 32px;\n",
              "    }\n",
              "\n",
              "    .colab-df-convert:hover {\n",
              "      background-color: #E2EBFA;\n",
              "      box-shadow: 0px 1px 2px rgba(60, 64, 67, 0.3), 0px 1px 3px 1px rgba(60, 64, 67, 0.15);\n",
              "      fill: #174EA6;\n",
              "    }\n",
              "\n",
              "    .colab-df-buttons div {\n",
              "      margin-bottom: 4px;\n",
              "    }\n",
              "\n",
              "    [theme=dark] .colab-df-convert {\n",
              "      background-color: #3B4455;\n",
              "      fill: #D2E3FC;\n",
              "    }\n",
              "\n",
              "    [theme=dark] .colab-df-convert:hover {\n",
              "      background-color: #434B5C;\n",
              "      box-shadow: 0px 1px 3px 1px rgba(0, 0, 0, 0.15);\n",
              "      filter: drop-shadow(0px 1px 2px rgba(0, 0, 0, 0.3));\n",
              "      fill: #FFFFFF;\n",
              "    }\n",
              "  </style>\n",
              "\n",
              "    <script>\n",
              "      const buttonEl =\n",
              "        document.querySelector('#df-ed7730f0-6b00-45a7-8bd5-eb232e42b243 button.colab-df-convert');\n",
              "      buttonEl.style.display =\n",
              "        google.colab.kernel.accessAllowed ? 'block' : 'none';\n",
              "\n",
              "      async function convertToInteractive(key) {\n",
              "        const element = document.querySelector('#df-ed7730f0-6b00-45a7-8bd5-eb232e42b243');\n",
              "        const dataTable =\n",
              "          await google.colab.kernel.invokeFunction('convertToInteractive',\n",
              "                                                    [key], {});\n",
              "        if (!dataTable) return;\n",
              "\n",
              "        const docLinkHtml = 'Like what you see? Visit the ' +\n",
              "          '<a target=\"_blank\" href=https://colab.research.google.com/notebooks/data_table.ipynb>data table notebook</a>'\n",
              "          + ' to learn more about interactive tables.';\n",
              "        element.innerHTML = '';\n",
              "        dataTable['output_type'] = 'display_data';\n",
              "        await google.colab.output.renderOutput(dataTable, element);\n",
              "        const docLink = document.createElement('div');\n",
              "        docLink.innerHTML = docLinkHtml;\n",
              "        element.appendChild(docLink);\n",
              "      }\n",
              "    </script>\n",
              "  </div>\n",
              "\n",
              "\n",
              "<div id=\"df-346d7397-67de-4ff2-81cb-85cd07b07af0\">\n",
              "  <button class=\"colab-df-quickchart\" onclick=\"quickchart('df-346d7397-67de-4ff2-81cb-85cd07b07af0')\"\n",
              "            title=\"Suggest charts\"\n",
              "            style=\"display:none;\">\n",
              "\n",
              "<svg xmlns=\"http://www.w3.org/2000/svg\" height=\"24px\"viewBox=\"0 0 24 24\"\n",
              "     width=\"24px\">\n",
              "    <g>\n",
              "        <path d=\"M19 3H5c-1.1 0-2 .9-2 2v14c0 1.1.9 2 2 2h14c1.1 0 2-.9 2-2V5c0-1.1-.9-2-2-2zM9 17H7v-7h2v7zm4 0h-2V7h2v10zm4 0h-2v-4h2v4z\"/>\n",
              "    </g>\n",
              "</svg>\n",
              "  </button>\n",
              "\n",
              "<style>\n",
              "  .colab-df-quickchart {\n",
              "      --bg-color: #E8F0FE;\n",
              "      --fill-color: #1967D2;\n",
              "      --hover-bg-color: #E2EBFA;\n",
              "      --hover-fill-color: #174EA6;\n",
              "      --disabled-fill-color: #AAA;\n",
              "      --disabled-bg-color: #DDD;\n",
              "  }\n",
              "\n",
              "  [theme=dark] .colab-df-quickchart {\n",
              "      --bg-color: #3B4455;\n",
              "      --fill-color: #D2E3FC;\n",
              "      --hover-bg-color: #434B5C;\n",
              "      --hover-fill-color: #FFFFFF;\n",
              "      --disabled-bg-color: #3B4455;\n",
              "      --disabled-fill-color: #666;\n",
              "  }\n",
              "\n",
              "  .colab-df-quickchart {\n",
              "    background-color: var(--bg-color);\n",
              "    border: none;\n",
              "    border-radius: 50%;\n",
              "    cursor: pointer;\n",
              "    display: none;\n",
              "    fill: var(--fill-color);\n",
              "    height: 32px;\n",
              "    padding: 0;\n",
              "    width: 32px;\n",
              "  }\n",
              "\n",
              "  .colab-df-quickchart:hover {\n",
              "    background-color: var(--hover-bg-color);\n",
              "    box-shadow: 0 1px 2px rgba(60, 64, 67, 0.3), 0 1px 3px 1px rgba(60, 64, 67, 0.15);\n",
              "    fill: var(--button-hover-fill-color);\n",
              "  }\n",
              "\n",
              "  .colab-df-quickchart-complete:disabled,\n",
              "  .colab-df-quickchart-complete:disabled:hover {\n",
              "    background-color: var(--disabled-bg-color);\n",
              "    fill: var(--disabled-fill-color);\n",
              "    box-shadow: none;\n",
              "  }\n",
              "\n",
              "  .colab-df-spinner {\n",
              "    border: 2px solid var(--fill-color);\n",
              "    border-color: transparent;\n",
              "    border-bottom-color: var(--fill-color);\n",
              "    animation:\n",
              "      spin 1s steps(1) infinite;\n",
              "  }\n",
              "\n",
              "  @keyframes spin {\n",
              "    0% {\n",
              "      border-color: transparent;\n",
              "      border-bottom-color: var(--fill-color);\n",
              "      border-left-color: var(--fill-color);\n",
              "    }\n",
              "    20% {\n",
              "      border-color: transparent;\n",
              "      border-left-color: var(--fill-color);\n",
              "      border-top-color: var(--fill-color);\n",
              "    }\n",
              "    30% {\n",
              "      border-color: transparent;\n",
              "      border-left-color: var(--fill-color);\n",
              "      border-top-color: var(--fill-color);\n",
              "      border-right-color: var(--fill-color);\n",
              "    }\n",
              "    40% {\n",
              "      border-color: transparent;\n",
              "      border-right-color: var(--fill-color);\n",
              "      border-top-color: var(--fill-color);\n",
              "    }\n",
              "    60% {\n",
              "      border-color: transparent;\n",
              "      border-right-color: var(--fill-color);\n",
              "    }\n",
              "    80% {\n",
              "      border-color: transparent;\n",
              "      border-right-color: var(--fill-color);\n",
              "      border-bottom-color: var(--fill-color);\n",
              "    }\n",
              "    90% {\n",
              "      border-color: transparent;\n",
              "      border-bottom-color: var(--fill-color);\n",
              "    }\n",
              "  }\n",
              "</style>\n",
              "\n",
              "  <script>\n",
              "    async function quickchart(key) {\n",
              "      const quickchartButtonEl =\n",
              "        document.querySelector('#' + key + ' button');\n",
              "      quickchartButtonEl.disabled = true;  // To prevent multiple clicks.\n",
              "      quickchartButtonEl.classList.add('colab-df-spinner');\n",
              "      try {\n",
              "        const charts = await google.colab.kernel.invokeFunction(\n",
              "            'suggestCharts', [key], {});\n",
              "      } catch (error) {\n",
              "        console.error('Error during call to suggestCharts:', error);\n",
              "      }\n",
              "      quickchartButtonEl.classList.remove('colab-df-spinner');\n",
              "      quickchartButtonEl.classList.add('colab-df-quickchart-complete');\n",
              "    }\n",
              "    (() => {\n",
              "      let quickchartButtonEl =\n",
              "        document.querySelector('#df-346d7397-67de-4ff2-81cb-85cd07b07af0 button');\n",
              "      quickchartButtonEl.style.display =\n",
              "        google.colab.kernel.accessAllowed ? 'block' : 'none';\n",
              "    })();\n",
              "  </script>\n",
              "</div>\n",
              "\n",
              "    </div>\n",
              "  </div>\n"
            ],
            "application/vnd.google.colaboratory.intrinsic+json": {
              "type": "dataframe",
              "variable_name": "df"
            }
          },
          "metadata": {},
          "execution_count": 5
        }
      ]
    },
    {
      "cell_type": "code",
      "source": [
        "df.columns"
      ],
      "metadata": {
        "colab": {
          "base_uri": "https://localhost:8080/"
        },
        "id": "AtIn7vBvifXq",
        "outputId": "253d5397-3590-4809-d753-4eb02028ee30"
      },
      "execution_count": null,
      "outputs": [
        {
          "output_type": "execute_result",
          "data": {
            "text/plain": [
              "Index(['budget', 'id', 'original_language', 'overview', 'popularity',\n",
              "       'release_date', 'revenue', 'runtime', 'status', 'tagline', 'title',\n",
              "       'vote_average', 'vote_count', 'name_coll', 'name_gen',\n",
              "       'production_companies', 'production_countries', 'languages', 'return',\n",
              "       'release_year', 'actors', 'director', 'first_actor', 'first_director'],\n",
              "      dtype='object')"
            ]
          },
          "metadata": {},
          "execution_count": 9
        }
      ]
    },
    {
      "cell_type": "markdown",
      "source": [
        "Se utilizará el atributo overview en combinación de otros más para evaluar los distintos modelos"
      ],
      "metadata": {
        "id": "JGA-cscLizYc"
      }
    },
    {
      "cell_type": "code",
      "source": [
        "df = df.fillna('')  # Replace None with empty strings"
      ],
      "metadata": {
        "id": "jGwEWkgPqUiB"
      },
      "execution_count": 7,
      "outputs": []
    },
    {
      "cell_type": "markdown",
      "source": [
        "##**Model1**"
      ],
      "metadata": {
        "id": "5q-G7RdijJUU"
      }
    },
    {
      "cell_type": "code",
      "source": [
        "#Extrar las columnas relevantes para el modelo\n",
        "model1 = df[['title', 'overview']].copy()"
      ],
      "metadata": {
        "id": "mA3HIGUatQHv"
      },
      "execution_count": 8,
      "outputs": []
    },
    {
      "cell_type": "code",
      "source": [
        "# Crear una instancia de TfidfVectorizer\n",
        "tfidf_1 = TfidfVectorizer(stop_words=\"english\", ngram_range=(1, 2))"
      ],
      "metadata": {
        "id": "OTKaEWKUtP4m"
      },
      "execution_count": 9,
      "outputs": []
    },
    {
      "cell_type": "code",
      "source": [
        "# Aplicar la transformación TF-IDF al contenido\n",
        "tfidf_matriz_1 = tfidf_1.fit_transform(model1['overview'])\n"
      ],
      "metadata": {
        "id": "NPAe_rqduJe1"
      },
      "execution_count": 10,
      "outputs": []
    },
    {
      "cell_type": "code",
      "source": [
        "# Función para obtener recomendaciones\n",
        "def recomendacion_m1(titulo):\n",
        "    #Crear una serie que asigna un índice a cada título de las películas\n",
        "    indices = pd.Series(model1.index, index=model1['title']).drop_duplicates()\n",
        "    if titulo not in indices:\n",
        "        return 'La película ingresada no se encuentra en la base de datos'\n",
        "    else:\n",
        "        #Obtener el índice de la película que coincide con el título\n",
        "        ind = pd.Series(indices[titulo]) if titulo in indices else None\n",
        "        #Si el título de la película está duplicado, devolver el índice de la primera aparición del título en el DataFrame\n",
        "        if model1.duplicated(['title']).any():\n",
        "            primer_ind = model1[model1['title'] == titulo].index[0]\n",
        "            if not ind.equals(pd.Series(primer_ind)):\n",
        "                ind = pd.Series(primer_ind)\n",
        "        #Calcular la similitud coseno entre la película de entrada y todas las demás películas en la matriz de características\n",
        "        cosine_sim = cosine_similarity(tfidf_matriz_1[ind], tfidf_matriz_1).flatten()\n",
        "        simil = sorted(enumerate(cosine_sim), key=lambda x: x[1], reverse=True)[1:6]\n",
        "        #Verificar que los índices obtenidos son válidos\n",
        "        valid_ind = [i[0] for i in simil if i[0] < len(model1)]\n",
        "        #Obtener los títulos de las películas más similares utilizando el índice de cada película\n",
        "        recomendaciones = model1.iloc[valid_ind]['title'].tolist()\n",
        "        #Devolver la lista de títulos de las películas recomendadas\n",
        "        return recomendaciones"
      ],
      "metadata": {
        "id": "8Pi2tNX712YV"
      },
      "execution_count": 14,
      "outputs": []
    },
    {
      "cell_type": "markdown",
      "source": [
        "##**Se realizan distintas pruebas para evaluar el modelo**"
      ],
      "metadata": {
        "id": "1O2RxBkhye0u"
      }
    },
    {
      "cell_type": "code",
      "source": [
        "\n",
        "recomendacion_m1('The Dark Knight Rises')"
      ],
      "metadata": {
        "colab": {
          "base_uri": "https://localhost:8080/"
        },
        "id": "a-MvHTIhucwZ",
        "outputId": "d3ff972f-4f8e-4762-bedc-21aed80c3d25"
      },
      "execution_count": 84,
      "outputs": [
        {
          "output_type": "execute_result",
          "data": {
            "text/plain": [
              "['Batman Forever',\n",
              " 'The Dark Knight',\n",
              " 'Batman',\n",
              " 'Batman Returns',\n",
              " 'Batman: Under the Red Hood']"
            ]
          },
          "metadata": {},
          "execution_count": 84
        }
      ]
    },
    {
      "cell_type": "code",
      "source": [
        "\n",
        "recomendacion_m1('Jumanji')"
      ],
      "metadata": {
        "colab": {
          "base_uri": "https://localhost:8080/"
        },
        "id": "0dNZ7sPcTuj7",
        "outputId": "5377f0ca-69d5-4693-ec7a-8e439559d0d7"
      },
      "execution_count": 85,
      "outputs": [
        {
          "output_type": "execute_result",
          "data": {
            "text/plain": [
              "['Word Wars', 'The Bar', 'Table No. 21', 'Quintet', 'The Dark Angel']"
            ]
          },
          "metadata": {},
          "execution_count": 85
        }
      ]
    },
    {
      "cell_type": "code",
      "source": [
        "\n",
        "recomendacion_m1('Titanic')"
      ],
      "metadata": {
        "colab": {
          "base_uri": "https://localhost:8080/"
        },
        "id": "ej5dkgcOucpR",
        "outputId": "15390e09-0eb1-4d84-a745-26d94e2f5c07"
      },
      "execution_count": 86,
      "outputs": [
        {
          "output_type": "execute_result",
          "data": {
            "text/plain": [
              "['Grantham and Rose',\n",
              " 'The Legend of 1900',\n",
              " 'Raise the Titanic',\n",
              " 'Dustbin Baby',\n",
              " 'The Experience']"
            ]
          },
          "metadata": {},
          "execution_count": 86
        }
      ]
    },
    {
      "cell_type": "code",
      "source": [
        "\n",
        "recomendacion_m1('Wonder Woman')"
      ],
      "metadata": {
        "colab": {
          "base_uri": "https://localhost:8080/"
        },
        "id": "8ohp48tr2Zkx",
        "outputId": "08fd1582-bfc0-498f-847a-3d8a1d35d8f9"
      },
      "execution_count": 88,
      "outputs": [
        {
          "output_type": "execute_result",
          "data": {
            "text/plain": [
              "['Wide Eyed and Legless',\n",
              " 'Trevor Noah: The Daywalker',\n",
              " 'Nightbeast',\n",
              " 'The Machinist',\n",
              " 'Escape from New York']"
            ]
          },
          "metadata": {},
          "execution_count": 88
        }
      ]
    },
    {
      "cell_type": "code",
      "source": [
        "\n",
        "recomendacion_m1('Star Wars')"
      ],
      "metadata": {
        "colab": {
          "base_uri": "https://localhost:8080/"
        },
        "id": "He5mDCb52rLl",
        "outputId": "61ee7087-62f7-4535-d44b-3841d7ddc1f4"
      },
      "execution_count": 87,
      "outputs": [
        {
          "output_type": "execute_result",
          "data": {
            "text/plain": [
              "['The Empire Strikes Back',\n",
              " 'The Star Wars Holiday Special',\n",
              " 'Star Wars: The Force Awakens',\n",
              " 'Return of the Jedi',\n",
              " 'Samson and the Seven Miracles of the World']"
            ]
          },
          "metadata": {},
          "execution_count": 87
        }
      ]
    },
    {
      "cell_type": "code",
      "source": [
        "\n",
        "recomendacion_m1('The Avengers')"
      ],
      "metadata": {
        "colab": {
          "base_uri": "https://localhost:8080/"
        },
        "id": "hf6EoMn32rHi",
        "outputId": "b6f269c4-d1e3-4dd2-a95a-2ab2bc958be9"
      },
      "execution_count": 89,
      "outputs": [
        {
          "output_type": "execute_result",
          "data": {
            "text/plain": [
              "['The Work and the Glory',\n",
              " 'Monty Python and the Holy Grail',\n",
              " \"Sir Arne's Treasure\",\n",
              " 'Prince of Persia: The Sands of Time',\n",
              " 'Doctor in Distress']"
            ]
          },
          "metadata": {},
          "execution_count": 89
        }
      ]
    },
    {
      "cell_type": "code",
      "source": [
        "# Se extraen las columnas necesarias para el Sistema de Recomendación\n",
        "model1 = df[['title', 'overview']]\n",
        "model1.to_parquet('movies_model1.parquet')"
      ],
      "metadata": {
        "id": "nnbAZMo92rCi"
      },
      "execution_count": 90,
      "outputs": []
    },
    {
      "cell_type": "code",
      "source": [
        "#Descargar el archivo\n",
        "from google.colab import files\n",
        "#files.download('movies_model1.parquet')"
      ],
      "metadata": {
        "id": "IxLXZhfr2ein"
      },
      "execution_count": 91,
      "outputs": []
    },
    {
      "cell_type": "markdown",
      "source": [
        "##**Model2**"
      ],
      "metadata": {
        "id": "eqbbb3AYPRGB"
      }
    },
    {
      "cell_type": "code",
      "source": [
        "#Extrar las columnas relevantes para el modelo\n",
        "model2 = df[['title', 'overview', 'first_director']].copy()"
      ],
      "metadata": {
        "id": "L8esqkIijW2Z"
      },
      "execution_count": 94,
      "outputs": []
    },
    {
      "cell_type": "code",
      "source": [
        "# Crear una instancia de TfidfVectorizer\n",
        "tfidf_2 = TfidfVectorizer(stop_words=\"english\", ngram_range=(1, 2))"
      ],
      "metadata": {
        "id": "H8INeLmttrIK"
      },
      "execution_count": 23,
      "outputs": []
    },
    {
      "cell_type": "code",
      "source": [
        "model2['concatenado'] = model2['overview'] + ' ' + model2['first_director']"
      ],
      "metadata": {
        "id": "3o0r_A-tW-Lj"
      },
      "execution_count": 24,
      "outputs": []
    },
    {
      "cell_type": "code",
      "source": [
        "# Aplicar la transformación TF-IDF\n",
        "tfidf_matriz_2 = tfidf_2.fit_transform(model2['concatenado'])"
      ],
      "metadata": {
        "id": "jNtviVQ5RA2I"
      },
      "execution_count": 25,
      "outputs": []
    },
    {
      "cell_type": "code",
      "source": [
        "# Función para obtener recomendaciones\n",
        "def recomendacion_m2(titulo):\n",
        "    #Crear una serie que asigna un índice a cada título de las películas\n",
        "    indices = pd.Series(model2.index, index=model2['title']).drop_duplicates()\n",
        "    if titulo not in indices:\n",
        "        return 'La película ingresada no se encuentra en la base de datos'\n",
        "    else:\n",
        "        #Obtener el índice de la película que coincide con el título\n",
        "        ind = pd.Series(indices[titulo]) if titulo in indices else None\n",
        "        #Si el título de la película está duplicado, devolver el índice de la primera aparición del título en el DataFrame\n",
        "        if model2.duplicated(['title']).any():\n",
        "            primer_ind = model2[model1['title'] == titulo].index[0]\n",
        "            if not ind.equals(pd.Series(primer_ind)):\n",
        "                ind = pd.Series(primer_ind)\n",
        "        #Calcular la similitud coseno entre la película de entrada y todas las demás películas en la matriz de características\n",
        "        cosine_sim = cosine_similarity(tfidf_matriz_2[ind], tfidf_matriz_2).flatten()\n",
        "        simil = sorted(enumerate(cosine_sim), key=lambda x: x[1], reverse=True)[1:6]\n",
        "        #Verificar que los índices obtenidos son válidos\n",
        "        valid_ind = [i[0] for i in simil if i[0] < len(model2)]\n",
        "        #Obtener los títulos de las películas más similares utilizando el índice de cada película\n",
        "        recomendaciones = model2.iloc[valid_ind]['title'].tolist()\n",
        "        #Devolver la lista de títulos de las películas recomendadas\n",
        "        return recomendaciones\n"
      ],
      "metadata": {
        "id": "BA_qFE8ERNkv"
      },
      "execution_count": 27,
      "outputs": []
    },
    {
      "cell_type": "code",
      "source": [
        "recomendacion_m2('Titanic')"
      ],
      "metadata": {
        "id": "eR1qV6yoRNdT",
        "colab": {
          "base_uri": "https://localhost:8080/"
        },
        "outputId": "597fceea-a819-4a74-d8ee-0065256f5435"
      },
      "execution_count": 28,
      "outputs": [
        {
          "output_type": "execute_result",
          "data": {
            "text/plain": [
              "['Grantham and Rose',\n",
              " 'Ghosts of the Abyss',\n",
              " 'The Legend of 1900',\n",
              " 'Avatar 2',\n",
              " 'Dustbin Baby']"
            ]
          },
          "metadata": {},
          "execution_count": 28
        }
      ]
    },
    {
      "cell_type": "code",
      "source": [
        "recomendacion_m2('Avatar')"
      ],
      "metadata": {
        "id": "c_hVc-hoRNRk",
        "colab": {
          "base_uri": "https://localhost:8080/"
        },
        "outputId": "bc150104-645a-4320-dd92-b75013abe5b6"
      },
      "execution_count": 29,
      "outputs": [
        {
          "output_type": "execute_result",
          "data": {
            "text/plain": [
              "['Aliens of the Deep',\n",
              " 'Avatar 2',\n",
              " 'Bloodbrothers',\n",
              " 'Stand by Me Doraemon',\n",
              " 'Ghosts of the Abyss']"
            ]
          },
          "metadata": {},
          "execution_count": 29
        }
      ]
    },
    {
      "cell_type": "code",
      "source": [
        "recomendacion_m2('Wonder Woman')"
      ],
      "metadata": {
        "id": "UoEZh3kESLQQ",
        "colab": {
          "base_uri": "https://localhost:8080/"
        },
        "outputId": "1f33e46d-41c6-4b3d-b942-fc2dc5463787"
      },
      "execution_count": 30,
      "outputs": [
        {
          "output_type": "execute_result",
          "data": {
            "text/plain": [
              "['Wide Eyed and Legless',\n",
              " 'Escape from New York',\n",
              " 'The Machinist',\n",
              " 'Green Lantern: First Flight',\n",
              " 'Our Dancing Daughters']"
            ]
          },
          "metadata": {},
          "execution_count": 30
        }
      ]
    },
    {
      "cell_type": "code",
      "source": [
        "recomendacion_m2('Star Wars')"
      ],
      "metadata": {
        "id": "9psqpDG8ScMk",
        "colab": {
          "base_uri": "https://localhost:8080/"
        },
        "outputId": "4a6362da-8458-4b88-a5ab-0dbf3dce668d"
      },
      "execution_count": 31,
      "outputs": [
        {
          "output_type": "execute_result",
          "data": {
            "text/plain": [
              "['The Empire Strikes Back',\n",
              " 'The Star Wars Holiday Special',\n",
              " 'Star Wars: The Force Awakens',\n",
              " 'Return of the Jedi',\n",
              " 'Samson and the Seven Miracles of the World']"
            ]
          },
          "metadata": {},
          "execution_count": 31
        }
      ]
    },
    {
      "cell_type": "code",
      "source": [
        "recomendacion_m2('The Avengers')"
      ],
      "metadata": {
        "id": "p3gB_mcKSj9Z",
        "colab": {
          "base_uri": "https://localhost:8080/"
        },
        "outputId": "30cce984-4ada-4555-d0cf-fda1a2bf1268"
      },
      "execution_count": 32,
      "outputs": [
        {
          "output_type": "execute_result",
          "data": {
            "text/plain": [
              "['The Right Kind of Wrong',\n",
              " 'The Work and the Glory',\n",
              " 'Benny & Joon',\n",
              " 'Monty Python and the Holy Grail',\n",
              " \"Sir Arne's Treasure\"]"
            ]
          },
          "metadata": {},
          "execution_count": 32
        }
      ]
    },
    {
      "cell_type": "code",
      "source": [
        "recomendacion_m2('Shrek')"
      ],
      "metadata": {
        "id": "c0U18-ard-Vm",
        "colab": {
          "base_uri": "https://localhost:8080/"
        },
        "outputId": "6c048bd6-ec1b-4420-bbb9-4c3645e40451"
      },
      "execution_count": 33,
      "outputs": [
        {
          "output_type": "execute_result",
          "data": {
            "text/plain": [
              "['Shrek 2',\n",
              " 'Shrek the Third',\n",
              " 'Silk Stockings',\n",
              " 'Scared Shrekless',\n",
              " 'Shrek Forever After']"
            ]
          },
          "metadata": {},
          "execution_count": 33
        }
      ]
    },
    {
      "cell_type": "markdown",
      "source": [
        "##**Model3**"
      ],
      "metadata": {
        "id": "gqpoYduTS8x1"
      }
    },
    {
      "cell_type": "code",
      "source": [
        "#Extrar las columnas relevantes para el modelo\n",
        "model3 = df[['title', 'overview', 'name_gen', 'first_director']].copy()"
      ],
      "metadata": {
        "id": "ndxm106KS4av"
      },
      "execution_count": 95,
      "outputs": []
    },
    {
      "cell_type": "code",
      "source": [
        "##Se separan los géneros y se convierten en palabras individuales\n",
        "model3['name_gen'] = model3['name_gen'].fillna('').apply(lambda x: ' '.join(x.replace(',', ' ').replace('-', '').lower().split()))"
      ],
      "metadata": {
        "id": "3vp-VJrNTd4W"
      },
      "execution_count": 36,
      "outputs": []
    },
    {
      "cell_type": "code",
      "source": [
        "# Se crea una instancia de la clase TfidfVectorizer\n",
        "tfidf_3 = TfidfVectorizer(stop_words=\"english\", ngram_range=(1, 2))\n",
        "# Aplicar la transformación TF-IDF al texto contenido en las columnas \"overview_clean\", \"genres\" y \"director\" del dataframe 'modelo4'\n",
        "tfidf_matriz_3 = tfidf_3.fit_transform(model3['overview'] + ' ' + model3['name_gen'] + ' ' + model3['first_director'])"
      ],
      "metadata": {
        "id": "4gkZIT9LUi33"
      },
      "execution_count": 37,
      "outputs": []
    },
    {
      "cell_type": "code",
      "source": [
        "tfidf_matriz_3.shape"
      ],
      "metadata": {
        "id": "sY-6yv92UirE",
        "colab": {
          "base_uri": "https://localhost:8080/"
        },
        "outputId": "55371a0f-8020-4536-8c0a-8364c45e4490"
      },
      "execution_count": 38,
      "outputs": [
        {
          "output_type": "execute_result",
          "data": {
            "text/plain": [
              "(45345, 1108211)"
            ]
          },
          "metadata": {},
          "execution_count": 38
        }
      ]
    },
    {
      "cell_type": "code",
      "source": [
        "# Función para obtener recomendaciones\n",
        "def recomendacion_m3(titulo):\n",
        "    #Crear una serie que asigna un índice a cada título de las películas\n",
        "    indices = pd.Series(model3.index, index=model3['title']).drop_duplicates()\n",
        "    if titulo not in indices:\n",
        "        return 'La película ingresada no se encuentra en la base de datos'\n",
        "    else:\n",
        "        #Obtener el índice de la película que coincide con el título\n",
        "        ind = pd.Series(indices[titulo]) if titulo in indices else None\n",
        "        #Si el título de la película está duplicado, devolver el índice de la primera aparición del título en el DataFrame\n",
        "        if model1.duplicated(['title']).any():\n",
        "            primer_ind = model3[model3['title'] == titulo].index[0]\n",
        "            if not ind.equals(pd.Series(primer_ind)):\n",
        "                ind = pd.Series(primer_ind)\n",
        "        #Calcular la similitud coseno entre la película de entrada y todas las demás películas en la matriz de características\n",
        "        cosine_sim = cosine_similarity(tfidf_matriz_3[ind], tfidf_matriz_3).flatten()\n",
        "        simil = sorted(enumerate(cosine_sim), key=lambda x: x[1], reverse=True)[1:6]\n",
        "        #Verificar que los índices obtenidos son válidos\n",
        "        valid_ind = [i[0] for i in simil if i[0] < len(model3)]\n",
        "        #Obtener los títulos de las películas más similares utilizando el índice de cada película\n",
        "        recomendaciones = model3.iloc[valid_ind]['title'].tolist()\n",
        "        #Devolver la lista de títulos de las películas recomendadas\n",
        "        return recomendaciones"
      ],
      "metadata": {
        "id": "KgQ2PJUBVPXe"
      },
      "execution_count": 39,
      "outputs": []
    },
    {
      "cell_type": "code",
      "source": [
        "recomendacion_m3('Titanic')"
      ],
      "metadata": {
        "id": "a74fWdccVPIx",
        "colab": {
          "base_uri": "https://localhost:8080/"
        },
        "outputId": "1fa8f46d-ac57-415d-835e-f5fcf1bba302"
      },
      "execution_count": 40,
      "outputs": [
        {
          "output_type": "execute_result",
          "data": {
            "text/plain": [
              "['Grantham and Rose',\n",
              " 'Ghosts of the Abyss',\n",
              " 'The Legend of 1900',\n",
              " 'Dustbin Baby',\n",
              " 'Raise the Titanic']"
            ]
          },
          "metadata": {},
          "execution_count": 40
        }
      ]
    },
    {
      "cell_type": "code",
      "source": [
        "recomendacion_m3('Avatar')"
      ],
      "metadata": {
        "id": "1hKFFsxvWxt2",
        "colab": {
          "base_uri": "https://localhost:8080/"
        },
        "outputId": "96edc795-2936-426e-d2af-d604ea3e52b0"
      },
      "execution_count": 41,
      "outputs": [
        {
          "output_type": "execute_result",
          "data": {
            "text/plain": [
              "['Avatar 2',\n",
              " 'Aliens of the Deep',\n",
              " 'Bloodbrothers',\n",
              " 'Stand by Me Doraemon',\n",
              " 'The War of the Robots']"
            ]
          },
          "metadata": {},
          "execution_count": 41
        }
      ]
    },
    {
      "cell_type": "code",
      "source": [
        "recomendacion_m3('Wonder Woman')"
      ],
      "metadata": {
        "id": "A7aiVJ2lW8XW",
        "colab": {
          "base_uri": "https://localhost:8080/"
        },
        "outputId": "7ed0804d-644d-48df-d01a-37671d12a7db"
      },
      "execution_count": 42,
      "outputs": [
        {
          "output_type": "execute_result",
          "data": {
            "text/plain": [
              "['DC Showcase: Catwoman',\n",
              " 'Green Lantern: First Flight',\n",
              " 'Green Lantern: Emerald Knights',\n",
              " 'Superman: Doomsday',\n",
              " 'Wide Eyed and Legless']"
            ]
          },
          "metadata": {},
          "execution_count": 42
        }
      ]
    },
    {
      "cell_type": "code",
      "source": [
        "recomendacion_m3('Star Wars')"
      ],
      "metadata": {
        "id": "ktPBpltXXD5N",
        "colab": {
          "base_uri": "https://localhost:8080/"
        },
        "outputId": "d945027d-d915-43a8-9ab9-98ecb0e4dda4"
      },
      "execution_count": 43,
      "outputs": [
        {
          "output_type": "execute_result",
          "data": {
            "text/plain": [
              "['The Empire Strikes Back',\n",
              " 'The Star Wars Holiday Special',\n",
              " 'Star Wars: The Force Awakens',\n",
              " 'Return of the Jedi',\n",
              " 'Star Wars: Episode I - The Phantom Menace']"
            ]
          },
          "metadata": {},
          "execution_count": 43
        }
      ]
    },
    {
      "cell_type": "code",
      "source": [
        "recomendacion_m2('The Avengers')"
      ],
      "metadata": {
        "id": "ke7vvNktXLsv",
        "colab": {
          "base_uri": "https://localhost:8080/"
        },
        "outputId": "202d3cdc-4583-46b1-b210-0bb0925e91d2"
      },
      "execution_count": 44,
      "outputs": [
        {
          "output_type": "execute_result",
          "data": {
            "text/plain": [
              "['The Right Kind of Wrong',\n",
              " 'The Work and the Glory',\n",
              " 'Benny & Joon',\n",
              " 'Monty Python and the Holy Grail',\n",
              " \"Sir Arne's Treasure\"]"
            ]
          },
          "metadata": {},
          "execution_count": 44
        }
      ]
    },
    {
      "cell_type": "markdown",
      "source": [
        "##**Se decide probar con los atributos 'title', 'name_gen', 'first_actor', 'first_director' esperando tener una posible mejora en cuanto a la precisión de las recomendaciones**"
      ],
      "metadata": {
        "id": "AfAm5JUKcc-D"
      }
    },
    {
      "cell_type": "markdown",
      "source": [
        "##**Model4**"
      ],
      "metadata": {
        "id": "fWm2mV6tClev"
      }
    },
    {
      "cell_type": "code",
      "source": [
        "#Extrar las columnas relevantes para el modelo\n",
        "model4 = df[['title', 'name_gen', 'first_actor', 'first_director']].copy()"
      ],
      "metadata": {
        "id": "yvvjkIp6CgR4"
      },
      "execution_count": 96,
      "outputs": []
    },
    {
      "cell_type": "code",
      "source": [
        "#Se separan los géneros y se convierten en palabras individuales\n",
        "model4['name_gen'] = model4['name_gen'].fillna('').apply(lambda x: ' '.join(x.replace(',', ' ').replace('-', '').lower().split()))"
      ],
      "metadata": {
        "id": "pk8AJw4FCgMf"
      },
      "execution_count": 46,
      "outputs": []
    },
    {
      "cell_type": "code",
      "source": [
        "#Se crea una instancia de la clase TfidfVectorizer\n",
        "tfidf_4 = TfidfVectorizer(stop_words=\"english\", ngram_range=(1, 2))\n",
        "# Aplicar la transformación TF-IDF al texto contenido en las columnas \"overview_clean\", \"genres\" y \"director\" del dataframe 'modelo4'\n",
        "tfidf_matriz_4 = tfidf_4.fit_transform(model4['name_gen'] + ' ' + model4['first_actor'] + ' ' + model4['first_director'])"
      ],
      "metadata": {
        "id": "G65yswqpCgBR"
      },
      "execution_count": 47,
      "outputs": []
    },
    {
      "cell_type": "code",
      "source": [
        "# Función para obtener recomendaciones\n",
        "def recomendacion_m4(titulo):\n",
        "    #Crear una serie que asigna un índice a cada título de las películas\n",
        "    indices = pd.Series(model4.index, index=model4['title']).drop_duplicates()\n",
        "    if titulo not in indices:\n",
        "        return 'La película ingresada no se encuentra en la base de datos'\n",
        "    else:\n",
        "        #Obtener el índice de la película que coincide con el título\n",
        "        ind = pd.Series(indices[titulo]) if titulo in indices else None\n",
        "        #Si el título de la película está duplicado, devolver el índice de la primera aparición del título en el DataFrame\n",
        "        if model4.duplicated(['title']).any():\n",
        "            primer_ind = model4[model4['title'] == titulo].index[0]\n",
        "            if not ind.equals(pd.Series(primer_ind)):\n",
        "                ind = pd.Series(primer_ind)\n",
        "        #Calcular la similitud coseno entre la película de entrada y todas las demás películas en la matriz de características\n",
        "        cosine_sim = cosine_similarity(tfidf_matriz_4[ind], tfidf_matriz_4).flatten()\n",
        "        simil = sorted(enumerate(cosine_sim), key=lambda x: x[1], reverse=True)[1:6]\n",
        "        #Verificar que los índices obtenidos son válidos\n",
        "        valid_ind = [i[0] for i in simil if i[0] < len(model4)]\n",
        "        #Obtener los títulos de las películas más similares utilizando el índice de cada película\n",
        "        recomendaciones = model4.iloc[valid_ind]['title'].tolist()\n",
        "        #Devolver la lista de títulos de las películas recomendadas\n",
        "        return recomendaciones"
      ],
      "metadata": {
        "id": "vCHhkDr2Cf1k"
      },
      "execution_count": 48,
      "outputs": []
    },
    {
      "cell_type": "code",
      "source": [
        "recomendacion_m4('Titanic')"
      ],
      "metadata": {
        "colab": {
          "base_uri": "https://localhost:8080/"
        },
        "id": "bXkGSdTiDwJA",
        "outputId": "dda52a3f-47eb-4d3d-b870-690c1a89f8ef"
      },
      "execution_count": 49,
      "outputs": [
        {
          "output_type": "execute_result",
          "data": {
            "text/plain": [
              "['Avatar 2', 'Jude', 'Sense and Sensibility', 'A Little Chaos', 'The Reader']"
            ]
          },
          "metadata": {},
          "execution_count": 49
        }
      ]
    },
    {
      "cell_type": "code",
      "source": [
        "recomendacion_m4('Avatar')"
      ],
      "metadata": {
        "colab": {
          "base_uri": "https://localhost:8080/"
        },
        "id": "w6zmfZb6DwDx",
        "outputId": "e62ea8ca-665d-48a1-d2fd-e0ff00704414"
      },
      "execution_count": 50,
      "outputs": [
        {
          "output_type": "execute_result",
          "data": {
            "text/plain": [
              "['Avatar 2',\n",
              " 'Clash of the Titans',\n",
              " 'Wrath of the Titans',\n",
              " 'Drift',\n",
              " \"The Hunter's Prayer\"]"
            ]
          },
          "metadata": {},
          "execution_count": 50
        }
      ]
    },
    {
      "cell_type": "code",
      "source": [
        "recomendacion_m4('Shrek')"
      ],
      "metadata": {
        "colab": {
          "base_uri": "https://localhost:8080/"
        },
        "id": "hd7ABj_uFC4E",
        "outputId": "a1289204-9257-4a03-c62c-7aa31a65e0c0"
      },
      "execution_count": 51,
      "outputs": [
        {
          "output_type": "execute_result",
          "data": {
            "text/plain": [
              "['Shrek 2',\n",
              " 'Shrek the Third',\n",
              " 'Shrek the Halls',\n",
              " 'The Chronicles of Narnia: Prince Caspian',\n",
              " 'The Chronicles of Narnia: The Lion, the Witch and the Wardrobe']"
            ]
          },
          "metadata": {},
          "execution_count": 51
        }
      ]
    },
    {
      "cell_type": "code",
      "source": [
        "recomendacion_m4('Star Wars')"
      ],
      "metadata": {
        "colab": {
          "base_uri": "https://localhost:8080/"
        },
        "id": "JwFSKkyxFIlI",
        "outputId": "8c6b55dc-6ae5-4b94-ceaf-06a35f62b300"
      },
      "execution_count": 52,
      "outputs": [
        {
          "output_type": "execute_result",
          "data": {
            "text/plain": [
              "['Return of the Jedi',\n",
              " 'The Empire Strikes Back',\n",
              " 'Comic Book: The Movie',\n",
              " 'Time Runner',\n",
              " 'Star Wars: Episode I - The Phantom Menace']"
            ]
          },
          "metadata": {},
          "execution_count": 52
        }
      ]
    },
    {
      "cell_type": "code",
      "source": [
        "recomendacion_m4('Toy Story')"
      ],
      "metadata": {
        "colab": {
          "base_uri": "https://localhost:8080/"
        },
        "id": "t0gGmMZpFWbY",
        "outputId": "8b31ab36-9466-49db-db48-b0587da92f36"
      },
      "execution_count": 53,
      "outputs": [
        {
          "output_type": "execute_result",
          "data": {
            "text/plain": [
              "['Toy Story 2', 'Toy Story of Terror!', 'Luxo Jr.', 'Tin Toy', \"Red's Dream\"]"
            ]
          },
          "metadata": {},
          "execution_count": 53
        }
      ]
    },
    {
      "cell_type": "code",
      "source": [
        "recomendacion_m4('Star Trek')"
      ],
      "metadata": {
        "colab": {
          "base_uri": "https://localhost:8080/"
        },
        "id": "KZMg-9A6FWNS",
        "outputId": "5d8cf1b8-f410-467d-cf2c-4f4c618412ff"
      },
      "execution_count": 54,
      "outputs": [
        {
          "output_type": "execute_result",
          "data": {
            "text/plain": [
              "['Star Trek Into Darkness',\n",
              " 'Star Trek Beyond',\n",
              " 'Blind Dating',\n",
              " 'Jack Ryan: Shadow Recruit',\n",
              " 'People Like Us']"
            ]
          },
          "metadata": {},
          "execution_count": 54
        }
      ]
    },
    {
      "cell_type": "code",
      "source": [
        "recomendacion_m4('Mars')"
      ],
      "metadata": {
        "colab": {
          "base_uri": "https://localhost:8080/"
        },
        "id": "P8ykcyn8FhHv",
        "outputId": "20a38b10-44c9-468a-c3e8-2122d7f019a2"
      },
      "execution_count": 55,
      "outputs": [
        {
          "output_type": "execute_result",
          "data": {
            "text/plain": [
              "['Blazing a Trail to the Stars',\n",
              " 'Fire on the Mountain',\n",
              " 'A Paralyzing Fear: The Story of Polio in America',\n",
              " 'The Dancemaker',\n",
              " 'Home Page']"
            ]
          },
          "metadata": {},
          "execution_count": 55
        }
      ]
    },
    {
      "cell_type": "code",
      "source": [
        "recomendacion_m4('Avatar')"
      ],
      "metadata": {
        "colab": {
          "base_uri": "https://localhost:8080/"
        },
        "id": "NrXKoIH-FmIF",
        "outputId": "f4ba8d10-d46a-455d-db2d-7611869eae0b"
      },
      "execution_count": 56,
      "outputs": [
        {
          "output_type": "execute_result",
          "data": {
            "text/plain": [
              "['Avatar 2',\n",
              " 'Clash of the Titans',\n",
              " 'Wrath of the Titans',\n",
              " 'Drift',\n",
              " \"The Hunter's Prayer\"]"
            ]
          },
          "metadata": {},
          "execution_count": 56
        }
      ]
    },
    {
      "cell_type": "code",
      "source": [
        "recomendacion_m4('The Hunger Games')"
      ],
      "metadata": {
        "colab": {
          "base_uri": "https://localhost:8080/"
        },
        "id": "oYIvvai2Ft92",
        "outputId": "b960ec34-cafe-4644-ff05-39cea8436ea4"
      },
      "execution_count": 57,
      "outputs": [
        {
          "output_type": "execute_result",
          "data": {
            "text/plain": [
              "['The Hunger Games: Mockingjay - Part 1',\n",
              " 'The Hunger Games: Mockingjay - Part 2',\n",
              " 'The Hunger Games: Catching Fire',\n",
              " 'Passengers',\n",
              " 'Joy']"
            ]
          },
          "metadata": {},
          "execution_count": 57
        }
      ]
    },
    {
      "cell_type": "code",
      "source": [
        "recomendacion_m4('Forrest Gump')"
      ],
      "metadata": {
        "colab": {
          "base_uri": "https://localhost:8080/"
        },
        "id": "q1_RI5GTFtmV",
        "outputId": "810f4806-be1a-4c8c-b215-39a461abefa6"
      },
      "execution_count": 58,
      "outputs": [
        {
          "output_type": "execute_result",
          "data": {
            "text/plain": [
              "['Cast Away',\n",
              " 'The Polar Express',\n",
              " 'Larry Crowne',\n",
              " 'Sleepless in Seattle',\n",
              " 'The Money Pit']"
            ]
          },
          "metadata": {},
          "execution_count": 58
        }
      ]
    },
    {
      "cell_type": "code",
      "source": [
        "recomendacion_m4('Men in Black')"
      ],
      "metadata": {
        "colab": {
          "base_uri": "https://localhost:8080/"
        },
        "id": "v7jEKoC6GOML",
        "outputId": "733d1540-088e-4279-c119-875220f104fb"
      },
      "execution_count": 59,
      "outputs": [
        {
          "output_type": "execute_result",
          "data": {
            "text/plain": [
              "['Men in Black II',\n",
              " 'The Sunset Limited',\n",
              " 'The Good Old Boys',\n",
              " 'The Three Burials of Melquiades Estrada',\n",
              " 'Wild Wild West']"
            ]
          },
          "metadata": {},
          "execution_count": 59
        }
      ]
    },
    {
      "cell_type": "code",
      "source": [
        "recomendacion_m4('Wonder Woman')"
      ],
      "metadata": {
        "colab": {
          "base_uri": "https://localhost:8080/"
        },
        "id": "qs6Kk9RbnojP",
        "outputId": "82ae8fb9-4384-46ac-acaa-c29a3ec34493"
      },
      "execution_count": 92,
      "outputs": [
        {
          "output_type": "execute_result",
          "data": {
            "text/plain": [
              "['Green Lantern: Emerald Knights',\n",
              " 'DC Showcase: Catwoman',\n",
              " 'Superman: Doomsday',\n",
              " 'Green Lantern: First Flight',\n",
              " 'Justice League: Crisis on Two Earths']"
            ]
          },
          "metadata": {},
          "execution_count": 92
        }
      ]
    },
    {
      "cell_type": "markdown",
      "source": [
        "##**Model5**"
      ],
      "metadata": {
        "id": "VbSLY-M1Pens"
      }
    },
    {
      "cell_type": "code",
      "source": [
        "#Extrar las columnas relevantes para el modelo\n",
        "model5 = df[['title', 'name_gen', 'tagline' ,'first_actor', 'first_director']].copy()"
      ],
      "metadata": {
        "id": "jzZeYgQcPdyu"
      },
      "execution_count": 97,
      "outputs": []
    },
    {
      "cell_type": "code",
      "source": [
        "#Se separan los géneros y se convierten en palabras individuales\n",
        "model5['name_gen'] = model5['name_gen'].fillna('').apply(lambda x: ' '.join(x.replace(',', ' ').replace('-', '').lower().split()))\n",
        "#Se separan los slogans y se convierten en palabras individuales\n",
        "model5['tagline'] = model5['tagline'].fillna('').apply(lambda x: ' '.join(x.replace(',', ' ').replace('-', '').lower().split()))\n",
        "#Se crea una instancia de la clase TfidfVectorizer\n",
        "tfidf_5 = TfidfVectorizer(stop_words=\"english\", ngram_range=(1, 2))\n",
        "#Aplicar la transformación TF-IDF y obtener matriz numérica\n",
        "tfidf_matriz_5 = tfidf_5.fit_transform(model5['name_gen'] + ' ' + model5['tagline'] + ' ' + model5['first_actor']+ ' ' + model5['first_director'])"
      ],
      "metadata": {
        "id": "22ZUuUlTPds9"
      },
      "execution_count": 61,
      "outputs": []
    },
    {
      "cell_type": "code",
      "source": [
        "# Función para obtener recomendaciones\n",
        "def recomendacion_m5(titulo):\n",
        "  #Crear una serie que asigna un índice a cada título de las películas\n",
        "    indices = pd.Series(model5.index, index=model5['title']).drop_duplicates()\n",
        "    if titulo not in indices:\n",
        "        return 'La película ingresada no se encuentra en la base de datos'\n",
        "    else:\n",
        "        #Obtener el índice de la película que coincide con el título\n",
        "        ind = pd.Series(indices[titulo]) if titulo in indices else None\n",
        "        #Si el título de la película está duplicado, devolver el índice de la primera aparición del título en el DataFrame\n",
        "        if model5.duplicated(['title']).any():\n",
        "            primer_ind = model5[model5['title'] == titulo].index[0]\n",
        "            if not ind.equals(pd.Series(primer_ind)):\n",
        "                ind = pd.Series(primer_ind)\n",
        "        #Calcular la similitud coseno entre la película de entrada y todas las demás películas en la matriz de características\n",
        "        cosine_sim = cosine_similarity(tfidf_matriz_5[ind], tfidf_matriz_5).flatten()\n",
        "        simil = sorted(enumerate(cosine_sim), key=lambda x: x[1], reverse=True)[1:6]\n",
        "        #Verificar que los índices obtenidos son válidos\n",
        "        valid_ind = [i[0] for i in simil if i[0] < len(model5)]\n",
        "        #Obtener los títulos de las películas más similares utilizando el índice de cada película\n",
        "        recomendaciones = model5.iloc[valid_ind]['title'].tolist()\n",
        "        #Devolver la lista de títulos de las películas recomendadas\n",
        "        return recomendaciones"
      ],
      "metadata": {
        "id": "QinS6J8tRK5w"
      },
      "execution_count": 65,
      "outputs": []
    },
    {
      "cell_type": "code",
      "source": [
        "recomendacion_m5('Toy Story')"
      ],
      "metadata": {
        "colab": {
          "base_uri": "https://localhost:8080/"
        },
        "id": "jXzm4BgbRKs8",
        "outputId": "93a00f88-ed32-419e-c719-5a32e0d00921"
      },
      "execution_count": 66,
      "outputs": [
        {
          "output_type": "execute_result",
          "data": {
            "text/plain": [
              "['Toy Story 2', 'Luxo Jr.', 'Tin Toy', \"Red's Dream\", 'Knick Knack']"
            ]
          },
          "metadata": {},
          "execution_count": 66
        }
      ]
    },
    {
      "cell_type": "code",
      "source": [
        "recomendacion_m5('Wonder Woman')"
      ],
      "metadata": {
        "colab": {
          "base_uri": "https://localhost:8080/"
        },
        "id": "YhtAa2obRKo9",
        "outputId": "2fe6454b-3e1c-419b-eb02-387757ddfde5"
      },
      "execution_count": 67,
      "outputs": [
        {
          "output_type": "execute_result",
          "data": {
            "text/plain": [
              "['DC Showcase: Catwoman',\n",
              " 'Green Lantern: Emerald Knights',\n",
              " 'Superman/Batman: Apocalypse',\n",
              " 'Superman: Doomsday',\n",
              " 'The Magic of Ordinary Days']"
            ]
          },
          "metadata": {},
          "execution_count": 67
        }
      ]
    },
    {
      "cell_type": "code",
      "source": [
        "recomendacion_m5('Avatar')"
      ],
      "metadata": {
        "colab": {
          "base_uri": "https://localhost:8080/"
        },
        "id": "0_Is1yCBRKkR",
        "outputId": "b3467226-88e5-44a6-ecb7-e7e68518f609"
      },
      "execution_count": 68,
      "outputs": [
        {
          "output_type": "execute_result",
          "data": {
            "text/plain": [
              "['Avatar 2',\n",
              " 'Clash of the Titans',\n",
              " 'The Shack',\n",
              " \"The Hunter's Prayer\",\n",
              " 'Tinker Bell']"
            ]
          },
          "metadata": {},
          "execution_count": 68
        }
      ]
    },
    {
      "cell_type": "code",
      "source": [
        "recomendacion_m5('Batman Returns')"
      ],
      "metadata": {
        "colab": {
          "base_uri": "https://localhost:8080/"
        },
        "id": "ybwI5Ps2RtW2",
        "outputId": "38b0328b-ad11-4d7c-8000-a778dbc67c87"
      },
      "execution_count": 69,
      "outputs": [
        {
          "output_type": "execute_result",
          "data": {
            "text/plain": [
              "['The Merry Gentleman',\n",
              " 'Hansel and Gretel',\n",
              " 'The Last Time',\n",
              " 'Dark Shadows',\n",
              " 'Live from Baghdad']"
            ]
          },
          "metadata": {},
          "execution_count": 69
        }
      ]
    },
    {
      "cell_type": "code",
      "source": [
        "recomendacion_m5('Star Wars')"
      ],
      "metadata": {
        "colab": {
          "base_uri": "https://localhost:8080/"
        },
        "id": "bYXKFdiDRxM3",
        "outputId": "5a486790-67d2-47e0-d7fc-0ce4e112b67e"
      },
      "execution_count": 70,
      "outputs": [
        {
          "output_type": "execute_result",
          "data": {
            "text/plain": [
              "['The Star Wars Holiday Special',\n",
              " 'The Galaxy Invader',\n",
              " 'Comic Book: The Movie',\n",
              " \"On Her Majesty's Secret Service\",\n",
              " 'The Empire Strikes Back']"
            ]
          },
          "metadata": {},
          "execution_count": 70
        }
      ]
    },
    {
      "cell_type": "code",
      "source": [
        "recomendacion_m5('The Avengers')"
      ],
      "metadata": {
        "colab": {
          "base_uri": "https://localhost:8080/"
        },
        "id": "MwvEB099SFQq",
        "outputId": "d4e4c59c-96f0-42ae-90cb-4490cfe002b0"
      },
      "execution_count": 71,
      "outputs": [
        {
          "output_type": "execute_result",
          "data": {
            "text/plain": [
              "['The Invisible Woman',\n",
              " 'Onegin',\n",
              " 'Get Smart',\n",
              " 'Tall Tale',\n",
              " 'The End of the Affair']"
            ]
          },
          "metadata": {},
          "execution_count": 71
        }
      ]
    },
    {
      "cell_type": "code",
      "source": [
        "recomendacion_m5('The Dark Knight Rises')"
      ],
      "metadata": {
        "colab": {
          "base_uri": "https://localhost:8080/"
        },
        "id": "uaSMPv_2SLsK",
        "outputId": "9427a0fd-08dc-47a7-c9c9-15b4350089c7"
      },
      "execution_count": 72,
      "outputs": [
        {
          "output_type": "execute_result",
          "data": {
            "text/plain": [
              "['The Dark Knight', 'Batman Begins', 'Following', 'Harsh Times', 'Metroland']"
            ]
          },
          "metadata": {},
          "execution_count": 72
        }
      ]
    },
    {
      "cell_type": "code",
      "source": [
        "recomendacion_m5('Jumanji')"
      ],
      "metadata": {
        "colab": {
          "base_uri": "https://localhost:8080/"
        },
        "id": "_irsYSx5SuYY",
        "outputId": "8b759b5e-76a1-4937-feac-7ef484f25a27"
      },
      "execution_count": 73,
      "outputs": [
        {
          "output_type": "execute_result",
          "data": {
            "text/plain": [
              "[\"Fathers' Day\",\n",
              " 'Hook',\n",
              " 'The World According to Garp',\n",
              " 'The Pagemaster',\n",
              " 'House of D']"
            ]
          },
          "metadata": {},
          "execution_count": 73
        }
      ]
    },
    {
      "cell_type": "code",
      "source": [
        "recomendacion_m5('Titanic')"
      ],
      "metadata": {
        "colab": {
          "base_uri": "https://localhost:8080/"
        },
        "id": "phiNG2ygSuS-",
        "outputId": "22b69ae0-defc-4a0e-a47c-9ab15f65c366"
      },
      "execution_count": 74,
      "outputs": [
        {
          "output_type": "execute_result",
          "data": {
            "text/plain": [
              "['Avatar 2',\n",
              " 'Little Children',\n",
              " 'Deep Sea 3D',\n",
              " 'Christmas Carol: The Movie',\n",
              " 'Sense and Sensibility']"
            ]
          },
          "metadata": {},
          "execution_count": 74
        }
      ]
    },
    {
      "cell_type": "code",
      "source": [
        "recomendacion_m5('Men in Black')"
      ],
      "metadata": {
        "colab": {
          "base_uri": "https://localhost:8080/"
        },
        "id": "YmQ7F6qlSuKy",
        "outputId": "cb90949b-37b9-437a-bc19-fd2c23784a42"
      },
      "execution_count": 75,
      "outputs": [
        {
          "output_type": "execute_result",
          "data": {
            "text/plain": [
              "['Men in Black II',\n",
              " 'The Good Old Boys',\n",
              " 'The Sunset Limited',\n",
              " 'The Three Burials of Melquiades Estrada',\n",
              " 'Men in Black 3']"
            ]
          },
          "metadata": {},
          "execution_count": 75
        }
      ]
    },
    {
      "cell_type": "markdown",
      "source": [
        "##**Modelo seleccionado**\n",
        "El modelo Model3 fue el que presentó una mejor recomendación pero tiene un mayor costo computacional. Es por ello que elegimos el segundo mejor modelo, Model5, que podrá adaptarse a las limitaciones de memoria del sitio render."
      ],
      "metadata": {
        "id": "-hVMuWivj5cs"
      }
    },
    {
      "cell_type": "code",
      "source": [
        "# Se extraen las columnas necesarias para el Sistema de Recomendación\n",
        "model5 = df[['title', 'name_gen', 'tagline' ,'first_actor', 'first_director']]"
      ],
      "metadata": {
        "id": "QDl8i-xOUeQB"
      },
      "execution_count": 81,
      "outputs": []
    },
    {
      "cell_type": "code",
      "source": [
        "# Se exportan los datos a formato parquet\n",
        "model5.to_parquet('movies_model5.parquet')"
      ],
      "metadata": {
        "id": "fflHUsMCUi3s"
      },
      "execution_count": 82,
      "outputs": []
    },
    {
      "cell_type": "code",
      "source": [
        "model5.shape"
      ],
      "metadata": {
        "colab": {
          "base_uri": "https://localhost:8080/"
        },
        "id": "poGdV1m8itdj",
        "outputId": "db973109-9d51-42e1-8d98-fbcf46ec45d6"
      },
      "execution_count": 83,
      "outputs": [
        {
          "output_type": "execute_result",
          "data": {
            "text/plain": [
              "(45345, 5)"
            ]
          },
          "metadata": {},
          "execution_count": 83
        }
      ]
    }
  ]
}